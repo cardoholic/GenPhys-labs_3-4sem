{
 "cells": [
  {
   "cell_type": "code",
   "execution_count": 212,
   "metadata": {
    "collapsed": false
   },
   "outputs": [],
   "source": [
    "filename = \"data1.csv\"\n",
    "units  = r\"$mm^2$\"\n",
    "\n",
    "xlabel = '$i$'\n",
    "ylabel = r'$r^2_i \\; mm^2$'"
   ]
  },
  {
   "cell_type": "code",
   "execution_count": 220,
   "metadata": {
    "collapsed": false
   },
   "outputs": [],
   "source": [
    "import numpy as np\n",
    "import pandas as pd\n",
    "import sympy as sp\n",
    "import statsmodels.api as sm\n",
    "import math\n",
    "\n",
    "\n",
    "# Load data\n",
    "data = pd.read_csv(filename, engine='python', sep = ';', header=None)"
   ]
  },
  {
   "cell_type": "code",
   "execution_count": 231,
   "metadata": {
    "collapsed": false
   },
   "outputs": [],
   "source": [
    "# Exract arrays\n",
    "#first line\n",
    "y = np.array(data[1])\n",
    "t = np.array(data[0])\n",
    "\n",
    "#second line\n",
    "y1 = np.array(data[3])\n",
    "t1 = np.array(data[2])\n",
    "\n",
    "#remove nan from array\n",
    "y1 = y1[~np.isnan(y1)]\n",
    "t1 = t1[~np.isnan(t1)]\n",
    "\n",
    "t = sm.add_constant(t, prepend=False)\n",
    "t1 = sm.add_constant(t1, prepend=False)"
   ]
  },
  {
   "cell_type": "code",
   "execution_count": 232,
   "metadata": {
    "collapsed": false
   },
   "outputs": [],
   "source": [
    "# Fitting first line\n",
    "model = sm.OLS(y,t)\n",
    "result = model.fit()\n",
    "\n",
    "# Saving parameters\n",
    "s_err, i_err = result.bse\n",
    "s, i = result.params"
   ]
  },
  {
   "cell_type": "code",
   "execution_count": 235,
   "metadata": {
    "collapsed": false
   },
   "outputs": [],
   "source": [
    "# Fitting second line\n",
    "model1 = sm.OLS(y1,t1)\n",
    "result1 = model1.fit()\n",
    "\n",
    "# Saving parameters\n",
    "s_err1, i_err1 = result1.bse\n",
    "s1, i1 = result1.params"
   ]
  },
  {
   "cell_type": "code",
   "execution_count": 236,
   "metadata": {
    "collapsed": false
   },
   "outputs": [
    {
     "name": "stderr",
     "output_type": "stream",
     "text": [
      "/Users/ri/anaconda3/lib/python3.6/site-packages/scipy/stats/stats.py:1327: UserWarning: kurtosistest only valid for n>=20 ... continuing anyway, n=10\n",
      "  \"anyway, n=%i\" % int(n))\n"
     ]
    },
    {
     "data": {
      "text/html": [
       "<table class=\"simpletable\">\n",
       "<tr>\n",
       "    <td></td>       <th>coef</th>     <th>std err</th>      <th>t</th>      <th>P>|t|</th> <th>[95.0% Conf. Int.]</th> \n",
       "</tr>\n",
       "<tr>\n",
       "  <th>x1</th>    <td>    0.0093</td> <td>  7.5e-05</td> <td>  124.388</td> <td> 0.000</td> <td>    0.009     0.009</td>\n",
       "</tr>\n",
       "<tr>\n",
       "  <th>const</th> <td>   -0.0051</td> <td>    0.000</td> <td>  -11.065</td> <td> 0.000</td> <td>   -0.006    -0.004</td>\n",
       "</tr>\n",
       "</table>"
      ],
      "text/plain": [
       "<class 'statsmodels.iolib.table.SimpleTable'>"
      ]
     },
     "execution_count": 236,
     "metadata": {},
     "output_type": "execute_result"
    }
   ],
   "source": [
    "result.summary().tables[1]"
   ]
  },
  {
   "cell_type": "code",
   "execution_count": 237,
   "metadata": {
    "collapsed": false
   },
   "outputs": [
    {
     "name": "stderr",
     "output_type": "stream",
     "text": [
      "/Users/ri/anaconda3/lib/python3.6/site-packages/scipy/stats/stats.py:1327: UserWarning: kurtosistest only valid for n>=20 ... continuing anyway, n=12\n",
      "  \"anyway, n=%i\" % int(n))\n"
     ]
    },
    {
     "data": {
      "text/html": [
       "<table class=\"simpletable\">\n",
       "<tr>\n",
       "    <td></td>       <th>coef</th>     <th>std err</th>      <th>t</th>      <th>P>|t|</th> <th>[95.0% Conf. Int.]</th> \n",
       "</tr>\n",
       "<tr>\n",
       "  <th>x1</th>    <td>    0.0098</td> <td> 6.41e-05</td> <td>  153.313</td> <td> 0.000</td> <td>    0.010     0.010</td>\n",
       "</tr>\n",
       "<tr>\n",
       "  <th>const</th> <td>   -0.0008</td> <td>    0.000</td> <td>   -1.750</td> <td> 0.111</td> <td>   -0.002     0.000</td>\n",
       "</tr>\n",
       "</table>"
      ],
      "text/plain": [
       "<class 'statsmodels.iolib.table.SimpleTable'>"
      ]
     },
     "execution_count": 237,
     "metadata": {},
     "output_type": "execute_result"
    }
   ],
   "source": [
    "result1.summary().tables[1]"
   ]
  },
  {
   "cell_type": "code",
   "execution_count": 266,
   "metadata": {
    "collapsed": false
   },
   "outputs": [],
   "source": [
    "import matplotlib.pylab as plt\n",
    "from matplotlib import rc\n",
    "from matplotlib.ticker import AutoMinorLocator\n",
    "# Plot size\n",
    "plt.rcParams['figure.figsize'] = (8, 5)\n",
    "\n",
    "rc('text.latex', preamble=r\"\\usepackage[utf8]{inputenc}\")\n",
    "rc('text.latex', preamble=r\"\\usepackage[russian]{babel}\")\n",
    "rc('text.latex', preamble=r\"\\usepackage{lmodern}\")\n",
    "rc('text.latex', preamble=r\"\\usepackage[T2A]{fontenc}\")\n",
    "rc('text.latex', unicode=True)\n",
    "\n",
    "# Options\n",
    "params = {'text.usetex' : True,\n",
    "          'font.size' : 11,\n",
    "          'font.family' : 'lmodern',\n",
    "          'text.latex.unicode': True,\n",
    "          }\n",
    "\n",
    "plt.rcParams.update(params)\n",
    "fig, ax = plt.subplots()\n",
    "\n",
    "minor_locator_y = AutoMinorLocator(4)\n",
    "minor_locator_x = AutoMinorLocator(2)\n",
    "ax.yaxis.set_minor_locator(minor_locator_y)\n",
    "ax.xaxis.set_minor_locator(minor_locator_x)\n",
    "\n",
    "#ax.yaxis.set_ticks(np.arange(0, 1, 0.2))\n",
    "\n",
    "#first line\n",
    "dark, = plt.plot(data[0],data[1],'bo')\n",
    "plt.plot(np.arange(0, 14, 1), np.arange(0, 14, 1)*s+i,'k--')\n",
    "\n",
    "#second line\n",
    "light, = plt.plot(data[2], data[3], 'ro')\n",
    "plt.plot(np.arange(1, 12, 1), np.arange(1, 12, 1)*s1+i1, 'k--')\n",
    "\n",
    "plt.legend([dark, light], ['Темные кольца', 'Светлые кольца'], loc = 4)\n",
    "\n",
    "plt.xlabel(xlabel)\n",
    "plt.ylabel(ylabel)\n",
    "\n",
    "\n",
    "\n",
    "label = r\"$k=(\" + \"{:.3f}\".format(s) + r\"\\pm\" + \"{:.3f}\".format(s_err) + \")$ \" + units\n",
    "ax.text(0.05, 0.9, label, transform=ax.transAxes, bbox={'facecolor':'white', 'edgecolor':'black', 'pad':10})\n",
    "\n",
    "ax.grid(color='g', linestyle='--', linewidth=0.6)\n",
    "ax.grid(color='g', linestyle='--', linewidth=0.1, which = 'minor' )\n",
    "\n",
    "res = plt.gcf()"
   ]
  },
  {
   "cell_type": "code",
   "execution_count": 267,
   "metadata": {
    "collapsed": false
   },
   "outputs": [
    {
     "data": {
      "image/png": "[encoded data removed]",
      "text/plain": [
       "<matplotlib.figure.Figure at 0x11681b828>"
      ]
     },
     "metadata": {},
     "output_type": "display_data"
    }
   ],
   "source": [
    "plt.show()"
   ]
  },
  {
   "cell_type": "code",
   "execution_count": 268,
   "metadata": {
    "collapsed": true
   },
   "outputs": [],
   "source": [
    "# Save file\n",
    "res.savefig(\"graph1.pdf\", \n",
    "            dpi=1000, \n",
    "            # Plot will be occupy a maximum of available space\n",
    "            bbox_inches='tight', \n",
    "            )"
   ]
  },
  {
   "cell_type": "code",
   "execution_count": null,
   "metadata": {
    "collapsed": true
   },
   "outputs": [],
   "source": []
  },
  {
   "cell_type": "code",
   "execution_count": null,
   "metadata": {
    "collapsed": true
   },
   "outputs": [],
   "source": []
  }
 ],
 "metadata": {
  "kernelspec": {
   "display_name": "Python 3",
   "language": "python",
   "name": "python3"
  },
  "language_info": {
   "codemirror_mode": {
    "name": "ipython",
    "version": 3
   },
   "file_extension": ".py",
   "mimetype": "text/x-python",
   "name": "python",
   "nbconvert_exporter": "python",
   "pygments_lexer": "ipython3",
   "version": "3.6.0"
  }
 },
 "nbformat": 4,
 "nbformat_minor": 2
}
